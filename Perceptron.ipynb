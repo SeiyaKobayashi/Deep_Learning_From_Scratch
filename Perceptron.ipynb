{
 "cells": [
  {
   "cell_type": "code",
   "execution_count": 25,
   "metadata": {},
   "outputs": [
    {
     "name": "stdout",
     "output_type": "stream",
     "text": [
      "Expected: 0\n",
      "Actual:   0\n",
      "Expected: 1\n",
      "Actual:   1\n",
      "Expected: 1\n",
      "Actual:   1\n",
      "Expected: 0\n",
      "Actual:   0\n"
     ]
    }
   ],
   "source": [
    "\"\"\"\n",
    "Perceptron:\n",
    "(b + w1x1 + w1x2) <= 0 --> 0\n",
    "(b + w1x1 + w1x2) >  0 --> 1\n",
    "where b = bias, w = weight\n",
    "\"\"\"\n",
    "\n",
    "import numpy as np\n",
    "\n",
    "def AND(x1, x2):\n",
    "    x = np.array([x1, x2])\n",
    "    w = np.array([0.5, 0.5])\n",
    "    b = -0.7\n",
    "    temp = np.sum(w*x) + b\n",
    "    if temp <= 0:\n",
    "        return 0\n",
    "    else:\n",
    "        return 1\n",
    "\n",
    "def NAND(x1, x2):\n",
    "    x = np.array([x1, x2])\n",
    "    w = np.array([-0.5, -0.5])\n",
    "    b = 0.7\n",
    "    temp = np.sum(w*x) + b\n",
    "    if temp <= 0:\n",
    "        return 0\n",
    "    else:\n",
    "        return 1\n",
    "\n",
    "def OR(x1, x2):\n",
    "    x = np.array([x1, x2])\n",
    "    w = np.array([0.5, 0.5])\n",
    "    b = -0.2\n",
    "    temp = np.sum(w*x) + b\n",
    "    if temp <= 0:\n",
    "        return 0\n",
    "    else:\n",
    "        return 1\n",
    "    \n",
    "# Can't be expressed as a single-layer perceptron(non-linear)\n",
    "def XOR(x1, x2):\n",
    "    s1 = NAND(x1, x2)\n",
    "    s2 = OR(x1, x2)\n",
    "    y = AND(s1, s2)\n",
    "    return y\n",
    "\n",
    "print(\"Expected: 0\")\n",
    "print(\"Actual:  \", XOR(0, 0))\n",
    "print(\"Expected: 1\")\n",
    "print(\"Actual:  \", XOR(0, 1))\n",
    "print(\"Expected: 1\")\n",
    "print(\"Actual:  \", XOR(1, 0))\n",
    "print(\"Expected: 0\")\n",
    "print(\"Actual:  \", XOR(1, 1))"
   ]
  },
  {
   "cell_type": "code",
   "execution_count": null,
   "metadata": {},
   "outputs": [],
   "source": []
  }
 ],
 "metadata": {
  "kernelspec": {
   "display_name": "Python 3",
   "language": "python",
   "name": "python3"
  },
  "language_info": {
   "codemirror_mode": {
    "name": "ipython",
    "version": 3
   },
   "file_extension": ".py",
   "mimetype": "text/x-python",
   "name": "python",
   "nbconvert_exporter": "python",
   "pygments_lexer": "ipython3",
   "version": "3.6.4"
  }
 },
 "nbformat": 4,
 "nbformat_minor": 2
}
